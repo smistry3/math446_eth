{
 "cells": [
  {
   "cell_type": "code",
   "execution_count": 1,
   "id": "7bd65912",
   "metadata": {},
   "outputs": [
    {
     "name": "stdout",
     "output_type": "stream",
     "text": [
      "Collecting Historic-Crypto\n",
      "  Downloading Historic_Crypto-0.1.6-py3-none-any.whl (8.8 kB)\n",
      "Requirement already satisfied: numpy in /Users/samheetamistry/opt/anaconda3/lib/python3.8/site-packages (from Historic-Crypto) (1.20.1)\n",
      "Requirement already satisfied: requests in /Users/samheetamistry/opt/anaconda3/lib/python3.8/site-packages (from Historic-Crypto) (2.25.1)\n",
      "Requirement already satisfied: certifi>=2017.4.17 in /Users/samheetamistry/opt/anaconda3/lib/python3.8/site-packages (from requests->Historic-Crypto) (2020.12.5)\n",
      "Requirement already satisfied: chardet<5,>=3.0.2 in /Users/samheetamistry/opt/anaconda3/lib/python3.8/site-packages (from requests->Historic-Crypto) (4.0.0)\n",
      "Requirement already satisfied: urllib3<1.27,>=1.21.1 in /Users/samheetamistry/opt/anaconda3/lib/python3.8/site-packages (from requests->Historic-Crypto) (1.26.4)\n",
      "Requirement already satisfied: idna<3,>=2.5 in /Users/samheetamistry/opt/anaconda3/lib/python3.8/site-packages (from requests->Historic-Crypto) (2.10)\n",
      "Installing collected packages: Historic-Crypto\n",
      "Successfully installed Historic-Crypto-0.1.6\n",
      "\u001b[33mWARNING: You are using pip version 21.2.4; however, version 21.3.1 is available.\n",
      "You should consider upgrading via the '/Users/samheetamistry/opt/anaconda3/bin/python -m pip install --upgrade pip' command.\u001b[0m\n",
      "Note: you may need to restart the kernel to use updated packages.\n"
     ]
    }
   ],
   "source": [
    "pip install Historic-Crypto"
   ]
  },
  {
   "cell_type": "code",
   "execution_count": 2,
   "id": "98040cb0",
   "metadata": {},
   "outputs": [],
   "source": [
    "from Historic_Crypto import HistoricalData\n",
    "from Historic_Crypto import Cryptocurrencies"
   ]
  },
  {
   "cell_type": "code",
   "execution_count": 3,
   "id": "5ce52c2e",
   "metadata": {},
   "outputs": [
    {
     "name": "stdout",
     "output_type": "stream",
     "text": [
      "Checking input parameters are in the correct format.\n",
      "Formatting Dates.\n",
      "Checking if user supplied is available on the CoinBase Pro API.\n",
      "Connected to the CoinBase Pro API.\n",
      "Ticker 'ETH-BTC' found at the CoinBase Pro API, continuing to extraction.\n",
      "Provisional Start: 2020-05-24T00:00:00\n",
      "Provisional End: 2021-03-20T00:00:00\n",
      "Data for chunk 1 of 2 extracted\n",
      "Provisional Start: 2021-03-20T00:00:00\n",
      "Provisional End: 2022-01-14T00:00:00\n",
      "Data for chunk 2 of 2 extracted\n"
     ]
    }
   ],
   "source": [
    "new = HistoricalData('ETH-BTC',86400,'2020-05-24-00-00', '2021-12-02-00-00').retrieve_data()"
   ]
  },
  {
   "cell_type": "code",
   "execution_count": 4,
   "id": "5584b5ca",
   "metadata": {},
   "outputs": [],
   "source": [
    "new.to_csv('coinbase100data.csv')"
   ]
  }
 ],
 "metadata": {
  "kernelspec": {
   "display_name": "Python 3",
   "language": "python",
   "name": "python3"
  },
  "language_info": {
   "codemirror_mode": {
    "name": "ipython",
    "version": 3
   },
   "file_extension": ".py",
   "mimetype": "text/x-python",
   "name": "python",
   "nbconvert_exporter": "python",
   "pygments_lexer": "ipython3",
   "version": "3.8.8"
  }
 },
 "nbformat": 4,
 "nbformat_minor": 5
}
